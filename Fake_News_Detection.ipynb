{
  "nbformat": 4,
  "nbformat_minor": 0,
  "metadata": {
    "colab": {
      "provenance": [],
      "authorship_tag": "ABX9TyN6lzwP0s4DLsrOtgoJ8VY+",
      "include_colab_link": true
    },
    "kernelspec": {
      "name": "python3",
      "display_name": "Python 3"
    },
    "language_info": {
      "name": "python"
    }
  },
  "cells": [
    {
      "cell_type": "markdown",
      "metadata": {
        "id": "view-in-github",
        "colab_type": "text"
      },
      "source": [
        "<a href=\"https://colab.research.google.com/github/Abin1401/Abin1401/blob/main/Fake_News_Detection.ipynb\" target=\"_parent\"><img src=\"https://colab.research.google.com/assets/colab-badge.svg\" alt=\"Open In Colab\"/></a>"
      ]
    },
    {
      "cell_type": "code",
      "execution_count": 3,
      "metadata": {
        "colab": {
          "base_uri": "https://localhost:8080/"
        },
        "id": "XHwloYIm8hAd",
        "outputId": "6b7be93e-6daf-45dc-a2af-4c2c5958f98d"
      },
      "outputs": [
        {
          "output_type": "stream",
          "name": "stdout",
          "text": [
            "Model accuracy: 99.44%\n",
            "Prediction for the 10th text: FAKE\n",
            "Actual label of the 10th text: FAKE\n",
            "[1]\n"
          ]
        }
      ],
      "source": [
        "import numpy as np\n",
        "import pandas as pd\n",
        "from sklearn.model_selection import train_test_split\n",
        "from sklearn.feature_extraction.text import TfidfVectorizer\n",
        "from sklearn.svm import LinearSVC\n",
        "from sklearn.metrics import accuracy_score\n",
        "import warnings\n",
        "\n",
        "# Suppress ConvergenceWarning\n",
        "warnings.filterwarnings(\"ignore\", category=UserWarning, module='sklearn')\n",
        "\n",
        "# Load the data from the provided CSV files\n",
        "true_news = pd.read_csv('/content/Fake.csv')\n",
        "fake_news = pd.read_csv('/content/True.csv')\n",
        "\n",
        "# Ensure the column names for text data are correct\n",
        "assert 'text' in true_news.columns, \"Text column missing in True.csv\"\n",
        "assert 'text' in fake_news.columns, \"Text column missing in Fake.csv\"\n",
        "\n",
        "# Add a 'label' column to each dataset\n",
        "true_news['label'] = 'REAL'\n",
        "fake_news['label'] = 'FAKE'\n",
        "\n",
        "# Combine the datasets into one\n",
        "data = pd.concat([true_news, fake_news], ignore_index=True)\n",
        "\n",
        "# Convert labels to binary (REAL = 0, FAKE = 1)\n",
        "data['label'] = data['label'].apply(lambda x: 0 if x == \"REAL\" else 1)\n",
        "\n",
        "# Split data into features and labels\n",
        "x, y = data['text'], data['label']\n",
        "\n",
        "# Split data into training and test sets\n",
        "x_train, x_test, y_train, y_test = train_test_split(x, y, test_size=0.2, random_state=42)\n",
        "\n",
        "# Vectorize text data using TF-IDF\n",
        "vectorizer = TfidfVectorizer(stop_words=\"english\", max_df=0.7)\n",
        "x_train_vectorized = vectorizer.fit_transform(x_train)\n",
        "x_test_vectorized = vectorizer.transform(x_test)\n",
        "\n",
        "# Train a Linear SVM model with explicit `dual` parameter\n",
        "clf = LinearSVC(max_iter=10000, dual=False)  # Set `dual` explicitly to False\n",
        "clf.fit(x_train_vectorized, y_train)\n",
        "\n",
        "# Evaluate the model\n",
        "y_pred = clf.predict(x_test_vectorized)\n",
        "accuracy = accuracy_score(y_test, y_pred)\n",
        "print(f\"Model accuracy: {accuracy * 100:.2f}%\")\n",
        "\n",
        "# Predict on the 10th test sample\n",
        "text_sample = x_test.iloc[9]  # 10th item in zero-indexed\n",
        "vectorized_text = vectorizer.transform([text_sample])\n",
        "prediction = clf.predict(vectorized_text)\n",
        "prediction_label = \"FAKE\" if prediction[0] == 1 else \"REAL\"\n",
        "print(f\"Prediction for the 10th text: {prediction_label}\")\n",
        "\n",
        "# Output the actual label of the 10th test sample\n",
        "actual_label = \"FAKE\" if y_test.iloc[9] == 1 else \"REAL\"\n",
        "print(f\"Actual label of the 10th text: {actual_label}\")\n",
        "\n",
        "# Example Numpy Array Output\n",
        "array = np.array([1], dtype=np.int64)\n",
        "print(array)\n"
      ]
    }
  ]
}